{
 "cells": [
  {
   "cell_type": "markdown",
   "id": "4637ca08",
   "metadata": {},
   "source": [
    "# PROJECT \n",
    "INSTABOT"
   ]
  },
  {
   "cell_type": "code",
   "execution_count": 283,
   "id": "c5f08119",
   "metadata": {},
   "outputs": [],
   "source": [
    "from selenium import webdriver\n",
    "from selenium.webdriver.support import expected_conditions as EC\n",
    "from selenium.webdriver.support.ui import WebDriverWait\n",
    "from selenium.webdriver.common.by import By\n",
    "from selenium.common.exceptions import TimeoutException\n",
    "from bs4 import BeautifulSoup\n",
    "from collections import OrderedDict \n",
    "import time\n",
    "from datetime import datetime, timedelta\n",
    "\n",
    "import pandas as pd\n",
    "import numpy as np\n",
    "import matplotlib.pyplot as plt\n",
    "%matplotlib inline"
   ]
  },
  {
   "cell_type": "code",
   "execution_count": 284,
   "id": "e68283fa",
   "metadata": {
    "scrolled": false
   },
   "outputs": [
    {
     "name": "stderr",
     "output_type": "stream",
     "text": [
      "<ipython-input-284-257a54280197>:1: DeprecationWarning: executable_path has been deprecated, please pass in a Service object\n",
      "  driver = webdriver.Chrome(executable_path = '/Users/yashlakhwani/Downloads/chromedriver')\n"
     ]
    }
   ],
   "source": [
    "driver = webdriver.Chrome(executable_path = '/Users/yashlakhwani/Downloads/chromedriver')\n",
    "driver.maximize_window()"
   ]
  },
  {
   "cell_type": "code",
   "execution_count": 285,
   "id": "b828f972",
   "metadata": {},
   "outputs": [],
   "source": [
    "driver.get('https://www.instagram.com/')"
   ]
  },
  {
   "cell_type": "code",
   "execution_count": 286,
   "id": "afa43d91",
   "metadata": {},
   "outputs": [],
   "source": [
    "username = 'USERNAME'\n",
    "password = 'PASSWORD'"
   ]
  },
  {
   "cell_type": "code",
   "execution_count": 287,
   "id": "58b73622",
   "metadata": {},
   "outputs": [],
   "source": [
    "wait = WebDriverWait(driver, 10)"
   ]
  },
  {
   "cell_type": "code",
   "execution_count": 288,
   "id": "9b200334",
   "metadata": {},
   "outputs": [],
   "source": [
    "def LogIn(username, password):\n",
    "    try :\n",
    "        user_name = wait.until(EC.presence_of_element_located((By.NAME,'username')))\n",
    "        user_name.send_keys(username)\n",
    "        #locating password box and sending password\n",
    "        pwd = driver.find_element_by_name('password')\n",
    "        pwd.send_keys(password)\n",
    "        #locating login button \n",
    "        button = wait.until(EC.presence_of_element_located((By.XPATH,'//*[@id=\"loginForm\"]/div[1]/div[3]/button/div')))\n",
    "        button.submit()\n",
    "        #Save Your Login Info? : Not Now\n",
    "        pop = wait.until(EC.presence_of_element_located((By.XPATH,'//*[@id=\"react-root\"]/section/main/div/div/div/div/button')))\n",
    "        pop.click()\n",
    "        #TurnONnotifications\n",
    "        notifications = wait.until(EC.presence_of_element_located((By.CLASS_NAME,'_a9_0')))\n",
    "        notifications.click()\n",
    "    except TimeoutException :\n",
    "        print (\"Something went wrong! Try Again\")"
   ]
  },
  {
   "cell_type": "code",
   "execution_count": 289,
   "id": "404d747d",
   "metadata": {
    "scrolled": false
   },
   "outputs": [
    {
     "name": "stderr",
     "output_type": "stream",
     "text": [
      "<ipython-input-288-584002d22f99>:6: DeprecationWarning: find_element_by_name is deprecated. Please use find_element(by=By.NAME, value=name) instead\n",
      "  pwd = driver.find_element_by_name('password')\n"
     ]
    }
   ],
   "source": [
    "LogIn(username, password)"
   ]
  },
  {
   "cell_type": "code",
   "execution_count": 290,
   "id": "8dead9d5",
   "metadata": {},
   "outputs": [],
   "source": [
    "def search(s):\n",
    "    try:\n",
    "        sb = driver.find_element(by = By.CLASS_NAME, value = '_aawh')\n",
    "        sb.send_keys(s)\n",
    "        time.sleep(7)\n",
    "        all_hand = driver.find_elements(by = By.CLASS_NAME, value = '_aba8')\n",
    "        time.sleep(5)\n",
    "        name = []\n",
    "        for i in all_hand:\n",
    "            if i.text.startswith('#'):\n",
    "                continue\n",
    "            else:\n",
    "                name.append(i.text)\n",
    "\n",
    "\n",
    "        sb.clear()\n",
    "\n",
    "        handles = []\n",
    "        for i in name:\n",
    "            if i == '':\n",
    "                continue\n",
    "            else:\n",
    "                handles.append(i.split('\\n')[0])\n",
    "                \n",
    "        return handles\n",
    "                \n",
    "    except TimeoutException :\n",
    "        print('No Search Found!')"
   ]
  },
  {
   "cell_type": "code",
   "execution_count": 291,
   "id": "4e807f93",
   "metadata": {},
   "outputs": [],
   "source": [
    "def search_for_handle(s):\n",
    "    sb = driver.find_element(by = By.CLASS_NAME, value = '_aawh')\n",
    "    sb.send_keys(s)\n",
    "\n",
    "    time.sleep(5)\n",
    "    \n",
    "    handle = driver.find_element(by = By.CLASS_NAME, value = '_abm4')\n",
    "    handle.click()"
   ]
  },
  {
   "cell_type": "code",
   "execution_count": 292,
   "id": "b41e281e",
   "metadata": {},
   "outputs": [],
   "source": [
    "def home():\n",
    "    home = driver.find_element(by = By.XPATH, value = '//div[contains(@class,\"_acuq\")]//div[contains(@class,\"_acut\")]')\n",
    "    home.click()"
   ]
  },
  {
   "cell_type": "code",
   "execution_count": 293,
   "id": "72216b5b",
   "metadata": {},
   "outputs": [],
   "source": [
    "def clear_search():\n",
    "    but = driver.find_element(by = By.CLASS_NAME, value = '_aaw8')\n",
    "    but.click()\n",
    "    \n",
    "    time.sleep(3)\n",
    "    \n",
    "    clear = driver.find_element(by = By.CLASS_NAME, value = '_aawn')\n",
    "    clear.click()"
   ]
  },
  {
   "cell_type": "markdown",
   "id": "38070fbc",
   "metadata": {},
   "source": [
    "# Now your friend has followed a lot of different food bloggers, he needs to analyse the habits of these bloggers."
   ]
  },
  {
   "cell_type": "markdown",
   "id": "926c5909",
   "metadata": {},
   "source": [
    "## --> From the list of instagram handles you obtained when you searched ‘food’ . Open the first 10 handles and find the top 5 which have the highest number of followers"
   ]
  },
  {
   "cell_type": "markdown",
   "id": "51cc0a67",
   "metadata": {},
   "source": [
    "### --> Searching first 10 user handles"
   ]
  },
  {
   "cell_type": "code",
   "execution_count": 294,
   "id": "781b0cc1",
   "metadata": {},
   "outputs": [],
   "source": [
    "s = 'food'\n",
    "handles = search(s)"
   ]
  },
  {
   "cell_type": "code",
   "execution_count": 295,
   "id": "1ff34509",
   "metadata": {},
   "outputs": [
    {
     "data": {
      "text/plain": [
       "['food',\n",
       " 'food.se.pyaar',\n",
       " 'food_foodlyf',\n",
       " 'foodie_incarnate',\n",
       " 'foodiee_aayushi',\n",
       " 'delhi_streets_food',\n",
       " 'zaik.adillika',\n",
       " 'food_x_kaur',\n",
       " 'foodtalkindia',\n",
       " 'dilsefoodie']"
      ]
     },
     "execution_count": 295,
     "metadata": {},
     "output_type": "execute_result"
    }
   ],
   "source": [
    "first_10 = handles[:10]\n",
    "first_10"
   ]
  },
  {
   "cell_type": "markdown",
   "id": "b05653fe",
   "metadata": {},
   "source": [
    "### --> getting top 5 based on followers from above first 10 list"
   ]
  },
  {
   "cell_type": "code",
   "execution_count": 296,
   "id": "d184566b",
   "metadata": {},
   "outputs": [],
   "source": [
    "def top_5(lst):\n",
    "    try:\n",
    "        #dct contains username with number of followers\n",
    "        dct = {}\n",
    "        for i in lst :\n",
    "            #fixing a flaw \n",
    "            if i == 'food':\n",
    "                driver.get('https://www.instagram.com/food/')\n",
    "                time.sleep(5)\n",
    "            else:\n",
    "                #This fuction will search a user and open that profile\n",
    "                search_for_handle(i)\n",
    "                time.sleep(5)\n",
    "            #locating followers of user\n",
    "            followers = wait.until(EC.presence_of_all_elements_located((By.CLASS_NAME,'_ac2a')))[1]\n",
    "            #replacing ',' with '' and converted into int\n",
    "            dct[i] = int(followers.get_attribute('title').replace(',' , ''))\n",
    "            \n",
    "            clear_search()\n",
    "        #top 5 most followed user\n",
    "        count = 0\n",
    "        res = OrderedDict()\n",
    "        for i in sorted(dct, key=dct.get, reverse=True):\n",
    "            res[i] = dct[i]\n",
    "            count += 1\n",
    "            if(count >= 5) : \n",
    "                break\n",
    "                \n",
    "        return res\n",
    "    except TimeoutException :\n",
    "        print (\"Something went wrong! Try Again\")"
   ]
  },
  {
   "cell_type": "code",
   "execution_count": 297,
   "id": "28e7d7b1",
   "metadata": {
    "scrolled": true
   },
   "outputs": [],
   "source": [
    "top_handles = top_5(first_10)"
   ]
  },
  {
   "cell_type": "code",
   "execution_count": 298,
   "id": "b74b093d",
   "metadata": {
    "scrolled": true
   },
   "outputs": [
    {
     "name": "stdout",
     "output_type": "stream",
     "text": [
      "Top 5 instagram handles which have the highest number of followers :\n",
      "foodie_incarnate ----> 1364579\n",
      "dilsefoodie ----> 1023716\n",
      "foodtalkindia ----> 308103\n",
      "food ----> 180693\n",
      "delhi_streets_food ----> 38667\n"
     ]
    }
   ],
   "source": [
    "print('Top 5 instagram handles which have the highest number of followers :')\n",
    "for uname in top_handles:\n",
    "    print(uname,'---->',top_handles[uname])"
   ]
  },
  {
   "cell_type": "markdown",
   "id": "2715851c",
   "metadata": {},
   "source": [
    "## --> Now Find the number of posts these handles have done in the previous 3 days."
   ]
  },
  {
   "cell_type": "code",
   "execution_count": 299,
   "id": "3d4b24e0",
   "metadata": {},
   "outputs": [],
   "source": [
    "def count_of_post(day):\n",
    "    try :\n",
    "        #locating first post\n",
    "        post = wait.until(EC.presence_of_element_located((By.CLASS_NAME,'_aabd')))\n",
    "        post.click()\n",
    "        \n",
    "        count = 0 \n",
    "        while True :\n",
    "            #getting date of the the post\n",
    "            temp = wait.until(EC.presence_of_element_located((By.CLASS_NAME,'_aaqe')))\n",
    "            #getting date in string format\n",
    "            date_string = temp.get_attribute('datetime')\n",
    "            #converting into date format\n",
    "            date = datetime.strptime(date_string[0:19], \"%Y-%m-%dT%H:%M:%S\")\n",
    "            #taking differnce between today's date and post posted date\n",
    "            if (datetime.now() - date).days > day :\n",
    "                break\n",
    "            else :\n",
    "                count += 1\n",
    "            #locating next button\n",
    "            next_but = wait.until(EC.presence_of_element_located((By.XPATH,'//div[contains(@class,\"_aaqg\")]/button[contains(@class,\"_abl-\")]')))\n",
    "            next_but.click()\n",
    "        #closing the post\n",
    "        close=driver.find_element_by_xpath(\"//div[contains(@class,'o9tjht9c')]/div[contains(@class,'oajrlxb2')]\")\n",
    "        close.click()\n",
    "        return count\n",
    "    \n",
    "    except TimeoutException :\n",
    "        print (\"Something went wrong! Try Again\")"
   ]
  },
  {
   "cell_type": "code",
   "execution_count": 300,
   "id": "2a9b5f71",
   "metadata": {
    "scrolled": false
   },
   "outputs": [
    {
     "name": "stderr",
     "output_type": "stream",
     "text": [
      "<ipython-input-299-bf95eff8cce4>:24: DeprecationWarning: find_element_by_xpath is deprecated. Please use find_element(by=By.XPATH, value=xpath) instead\n",
      "  close=driver.find_element_by_xpath(\"//div[contains(@class,'o9tjht9c')]/div[contains(@class,'oajrlxb2')]\")\n"
     ]
    }
   ],
   "source": [
    "total_post_count = {}\n",
    "for i in top_handles :\n",
    "    if i == 'food':\n",
    "        driver.get('https://www.instagram.com/food/')\n",
    "        time.sleep(5)\n",
    "    else:\n",
    "        search_for_handle(i)\n",
    "        time.sleep(5)\n",
    "    count = count_of_post(3)\n",
    "    total_post_count[i] = count\n",
    "    clear_search()"
   ]
  },
  {
   "cell_type": "code",
   "execution_count": 301,
   "id": "b7b4873b",
   "metadata": {},
   "outputs": [
    {
     "name": "stdout",
     "output_type": "stream",
     "text": [
      "Number of posts these handles have done in the previous 3 days : -\n",
      "foodie_incarnate 6\n",
      "dilsefoodie 6\n",
      "foodtalkindia 4\n",
      "food 4\n",
      "delhi_streets_food 0\n"
     ]
    }
   ],
   "source": [
    "print('Number of posts these handles have done in the previous 3 days : -')\n",
    "for i in total_post_count:\n",
    "    print(i,total_post_count[i])"
   ]
  },
  {
   "cell_type": "markdown",
   "id": "ba23c97a",
   "metadata": {},
   "source": [
    "## --> Depict this information using a suitable graph."
   ]
  },
  {
   "cell_type": "code",
   "execution_count": 302,
   "id": "894cb07b",
   "metadata": {},
   "outputs": [
    {
     "data": {
      "image/png": "[encoded data removed]",
      "text/plain": [
       "<Figure size 432x288 with 1 Axes>"
      ]
     },
     "metadata": {
      "needs_background": "light"
     },
     "output_type": "display_data"
    },
    {
     "data": {
      "image/png": "[encoded data removed]",
      "text/plain": [
       "<Figure size 432x288 with 1 Axes>"
      ]
     },
     "metadata": {
      "needs_background": "light"
     },
     "output_type": "display_data"
    }
   ],
   "source": [
    "# using top_handles to get username and number of followers\n",
    "x = top_handles.keys()\n",
    "y = top_handles.values()\n",
    "plt.bar(x,y,color='Orange', alpha = 0.8)\n",
    "plt.ylabel(\"No. of Followers(In Millions)\",size=13)\n",
    "plt.xlabel(\"Username\",size=13)\n",
    "plt.xticks(rotation = -5)\n",
    "plt.title('Username V/S No. of Followers',fontsize=15, color='Black',alpha=3)\n",
    "plt.grid()\n",
    "plt.show()\n",
    "\n",
    "\n",
    "# using total_post_count to get username and number of post\n",
    "x = total_post_count.keys()\n",
    "y = total_post_count.values()\n",
    "plt.bar(x,y,color='cyan', alpha = 0.8)\n",
    "plt.ylabel(\"Number of posts in the previous 3 days\",size=11)\n",
    "plt.xlabel(\"Username\",size=13)\n",
    "plt.xticks(rotation = -5)\n",
    "plt.title('Most Followed user vs Number of recent posts ',fontsize=15, color='Black',alpha=3)\n",
    "plt.grid()\n",
    "plt.show()"
   ]
  },
  {
   "cell_type": "markdown",
   "id": "33a18258",
   "metadata": {},
   "source": [
    "# Your friend also needs a list of hashtags that he should use in his posts."
   ]
  },
  {
   "cell_type": "markdown",
   "id": "de5492ee",
   "metadata": {},
   "source": [
    "## --> Open the 5 handles you obtained, and scrape the content of the first 10 posts of each handle."
   ]
  },
  {
   "cell_type": "code",
   "execution_count": 303,
   "id": "cb88c4a1",
   "metadata": {},
   "outputs": [
    {
     "name": "stderr",
     "output_type": "stream",
     "text": [
      "<ipython-input-303-69c4c4ab75b5>:16: DeprecationWarning: find_element_by_xpath is deprecated. Please use find_element(by=By.XPATH, value=xpath) instead\n",
      "  driver.find_element_by_xpath('//div[@class=\"_aagw\"]').click()\n",
      "<ipython-input-303-69c4c4ab75b5>:22: DeprecationWarning: find_element_by_xpath is deprecated. Please use find_element(by=By.XPATH, value=xpath) instead\n",
      "  caption = driver.find_element_by_xpath('//div[contains(@class,\"_a9zs\")]/span[contains(@class,\"_aacl\")]').get_attribute('textContent')\n",
      "<ipython-input-303-69c4c4ab75b5>:26: DeprecationWarning: find_elements_by_xpath is deprecated. Please use find_elements(by=By.XPATH, value=xpath) instead\n",
      "  hashtag = driver.find_elements_by_xpath('//div[contains(@class,\"_a9zs\")]/span[contains(@class,\"_aacl\")]/a')\n",
      "<ipython-input-303-69c4c4ab75b5>:37: DeprecationWarning: find_element_by_xpath is deprecated. Please use find_element(by=By.XPATH, value=xpath) instead\n",
      "  close=driver.find_element_by_xpath(\"//div[contains(@class,'o9tjht9c')]/div[contains(@class,'oajrlxb2')]\")\n"
     ]
    }
   ],
   "source": [
    "content=[]\n",
    "hashtags=[]\n",
    "#using top 5 user_handles\n",
    "for user in top_handles:\n",
    "    #if we search food the top result is foodtalkindia so there is a flaw which i have fixed in this way\n",
    "    if user == 'food':\n",
    "        driver.get('https://www.instagram.com/food/')\n",
    "        time.sleep(3)\n",
    "    else:\n",
    "        time.sleep(3)\n",
    "        #searching user_handle\n",
    "        search_for_handle(user)\n",
    "    \n",
    "    time.sleep(3)\n",
    "    #clicking on first post\n",
    "    driver.find_element_by_xpath('//div[@class=\"_aagw\"]').click()\n",
    "    time.sleep(5)\n",
    "    #running loop for 10 times to get 10 posts\n",
    "    for i in range(10):\n",
    "        time.sleep(3)\n",
    "        #locating caption\n",
    "        caption = driver.find_element_by_xpath('//div[contains(@class,\"_a9zs\")]/span[contains(@class,\"_aacl\")]').get_attribute('textContent')\n",
    "        #appending the caption in our content list\n",
    "        content.append(caption)\n",
    "        #locating hastags\n",
    "        hashtag = driver.find_elements_by_xpath('//div[contains(@class,\"_a9zs\")]/span[contains(@class,\"_aacl\")]/a')\n",
    "        for i in hashtag:\n",
    "            #in hashtag element there are certain mention tags also. So, I filtered it...\n",
    "            if i.get_attribute('textContent')[0] == '#':\n",
    "                #appending it to our hashtags list\n",
    "                hashtags.append(i.get_attribute('textContent'))\n",
    "                #Now our content and tags have been added for the first post.\n",
    "        #clicking on next for second post\n",
    "        next_but = wait.until(EC.presence_of_element_located((By.XPATH,'//div[contains(@class,\"_aaqg\")]/button[contains(@class,\"_abl-\")]')))\n",
    "        next_but.click()\n",
    "    #closing the post box\n",
    "    close=driver.find_element_by_xpath(\"//div[contains(@class,'o9tjht9c')]/div[contains(@class,'oajrlxb2')]\")\n",
    "    close.click()\n",
    "    #clearing search bar.\n",
    "    clear_search()\n",
    "    "
   ]
  },
  {
   "cell_type": "code",
   "execution_count": 304,
   "id": "471b17cb",
   "metadata": {
    "scrolled": false
   },
   "outputs": [
    {
     "name": "stdout",
     "output_type": "stream",
     "text": [
      "Bhaang Making in India😱😱.Watch the full video on my YouTube channel. Link is in my bio🤗🤗.#foodieincarnate #reelitfeelit #reelkarofeelkaro #reelsinstagram #reels #bhaang #hash #high #viralfood #explore\n",
      "---------------------------------------------------------------------------\n",
      "HEAVENLY MYSORE PAK🤤🤤.Had it at Sri Venkateshwara Sweet Stall in Bangalore. This place is known for serving authentic Mysore pak from decades. I tried Mysore pak at a lot of places in Bangalore and this one was amongst the very best. It's texture was totally melt-in-mouth and it has such a rich taste of ghee in it.  We bought half a kg Mysore pak here at it took us barely 10 minutes to finish it all. Must try it if you happen to visit Bangalore.👍🏻.#foodieincarnate #sodelhi #newdelhi #foodtalkindia #desifood #delhigram #indianfood #barfi #mysorepak #bangalore #bengaluru #nammabangalore #nammabengaluru #nammakarnataka #southindian #southindianfood #dessert #desserts #delhifood #mumbaifood #mithai #indiandessert #gulabjamun #indianfoodbloggers #bangalorefood #soulfood #desikhana #sobangalore #dessertporn #desikhana\n",
      "---------------------------------------------------------------------------\n",
      "Samosa, Burger or Sandwich..what would you call it??🤔🥵.Kindly watch the full video for location, price and all other details🤗🤗.#foodieincarnate #sodelhi #newdelhi #foodtalkindia #delhigram #indianfood #delhifoodblogger #foodgasm #foodporn #foodpornshare #foodlover #foodgram #foodiesofinstagram #foodie #indianstreetfood #streetfood #delhistreetfood #streetfoodindia #mumbaistreetfood #delhifoodie #foodblogger #indianfoodie #desikhana #indianfoodblogger #indianfoodbloggers #delhifood #mumbai #delhi #samosa #vadodara\n",
      "---------------------------------------------------------------------------\n",
      "Automatic Roti Making at Gurudwara Bangla Sahib🙏🏻🙏🏻.Watch the full video on my YouTube channel. Link is in my bio🤗🤗.#foodieincarnate #Reelitfeelit #reelkarofeelkaro #reelsinstagram #reels #sikh #sikhism #gurudwara #chapati #explore\n",
      "---------------------------------------------------------------------------\n",
      "Gulabjamun is love❤❤ Tag your friends who love gulabjamun🤗🤗..#Foodieincarnate #sodelhi #foodtalkindia #desifood #desikhana #delhigram #indianfood #gulabjamun #rasgulla #mithai #indiansweets #delhifood #mumbaifood #kajukatli #desserts #ladoo #delhifoodie #olddelhi #maharashtra #delhifoodblogger #dessertfirst #mumbaifoodie #rasmalai #dessertgram #dessertaddict #indianfoodie #sweettooth #kolkata #foodblogger #streetfood\n",
      "---------------------------------------------------------------------------\n",
      "Stylish Indian Man Selling Bhaang in Mathura😎😎.Kindly watch the full video for location, price and all other details🤗🤗.#foodieincarnate #sodelhi #newdelhi #foodtalkindia #delhigram #indianfood #delhifoodblogger #foodgasm #foodporn #foodpornshare #foodlover #foodgram #foodiesofinstagram #foodie #indianstreetfood #streetfood #delhistreetfood #streetfoodindia #mumbaistreetfood #delhifoodie #foodblogger #indianfoodie #desikhana #indianfoodblogger #indianfoodbloggers #delhifood #mumbai #delhi #shivratri #mathura\n",
      "---------------------------------------------------------------------------\n",
      "Ghewar or Dry Fruits Pizza??😱😱.Watch the full video on my YouTube channel. Link is in my bio🤗🤗.#foodieincarnate #Reelitfeelit #reelkarofeelkaro #reelsinstagram #reels #ghewar #pizza #pizzalover #dessert #viralfood #explore\n",
      "---------------------------------------------------------------------------\n",
      "Nadda Kebab: this dish disappointed us the most in Nagpur.👎🏻👎🏻.#foodieincarnate #sodelhi #newdelhi #foodtalkindia #delhigram #indianfood #delhifoodblogger #foodgasm #foodporn #foodpornshare #foodlover #foodgram #foodiesofinstagram #foodie #indianstreetfood #streetfood #delhistreetfood #streetfoodindia #mumbaistreetfood #delhifoodie #foodblogger #indianfoodie #desikhana #indianfoodblogger #indianfoodbloggers #delhifood #mumbai #delhi #nagpur #nadda\n",
      "---------------------------------------------------------------------------\n",
      "श्री राम जन्मभूमि Ayodhya में Free Food For Everyone🙏🏻🙏🏻.Kindly watch the full video for location, price and all other details🤗🤗.#foodieincarnate #sodelhi #newdelhi #foodtalkindia #delhigram #indianfood #delhifoodblogger #foodgasm #foodporn #foodpornshare #foodlover #foodgram #foodiesofinstagram #foodie #indianstreetfood #streetfood #delhistreetfood #streetfoodindia #mumbaistreetfood #delhifoodie #foodblogger #indianfoodie #desikhana #indianfoodblogger #indianfoodbloggers #delhifood #mumbai #delhi #ShriRam #Ayodhya\n",
      "---------------------------------------------------------------------------\n",
      "Making of Bura Sugar😱😱.Watch the full video on my YouTube channel. Link is in my bio🤗🤗.#foodieincarnate #Reelitfeelit #reelkarofeelkaro #reelsinstagram #reels #viralfood #trending #explore #dessert #streetfood\n",
      "---------------------------------------------------------------------------\n",
      "2 Days To Go.. Video coming soon.. Kuch #anokha #adhbhut #awishvasniye #foodiewe\n",
      "---------------------------------------------------------------------------\n",
      "Khaana Kha Raha Hu Meri Maa 😂😂 @dilsecouple #dilsefoodie #dilsecouple\n",
      "---------------------------------------------------------------------------\n",
      "Mausam Ki Demand Pe Paish Karte Hai Garg Chaat Ki Super Crispy Tikki At Chandigarh #dilsefoodie #dilsecouple #food #Alootikki\n",
      "---------------------------------------------------------------------------\n",
      "Amazing Sizzler And Indian Food We Had At Assam #dilsefoodie #dilsecouple\n",
      "---------------------------------------------------------------------------\n",
      "Endless Love 💕 Mr Mrs Dua\n",
      "---------------------------------------------------------------------------\n",
      "Shooting Here The Most Romantic Place In Assam 😍#dilsefoodie #dilsecouple #Assam\n",
      "---------------------------------------------------------------------------\n",
      "2 Sabzi, Rice, Salad And 5 Roti In Rs 50 Only Yaha Pe Subha 3 4Am Tak Food Milta Hai And Delhi Ke Sabhi Auto Wale Dinner Yahi Karte Hai. Exact Location Will Share Soon #dilsefoodie #dilsecouple\n",
      "---------------------------------------------------------------------------\n",
      "After Walk South Indian Breakfast At Mysore Cafe, South Avenue With My Biwi @dilsecouple #dilsefoodie #dilsecouple\n",
      "---------------------------------------------------------------------------\n",
      "Wonderful experience at @cznburakdubai Amazing restaurant by @cznburak Special bread was made for @dilsefoodie mind boggling experience ..For more drooling 🤤 updates follow 😬 www.instagram.com/chatpati_shikha..For Recipes https://www.facebook.com/Chatpati_shikha-108172413891375/ ...#chatpati_shikha #dilsefoodie #indiapictures #storiesofindia #manmeetbindrafilms #reels #instagram #instagood #dubai #resturant #experience #yum #lebanese\n",
      "---------------------------------------------------------------------------\n",
      "Kya Aapke PATI Bhi CHAI Banate Hai ? 🤣🤣🤣👍🏻#dilsefoodie #dilsecouple\n",
      "---------------------------------------------------------------------------\n",
      "Here is a quick round up the hottest festivals and events happening in the upcoming weeks. 🥳Swipe to read about all the exciting things, you definitely would not want to miss out on these! 📍Bookmark these events and share it with your friends!...#newsroundup #foodnews #beveragesnews #events #festivals #mumbai #delhi #foodtalkindia #foodtalk #fti #food #foodie #foodies #foodgram #foodgasm #foodiesofindia #foodblogger #foodfeed #delicious #yummy #instagood #instafood #instagram #share\n",
      "---------------------------------------------------------------------------\n",
      "The heart lies where the crispy hot Kachoris are. Are we right or are we right? 🍽Check out these iconic yet delicious Kachori places across the capital. 📍Comment and tell us your go-to. ...#kachoris #delhi #streetfood #crispy #foodtalkindia #foodtalk #fti #food #foodie #foodies #foodgram #foodgasm #foodiesofindia #foodblogger #foodfeed #delicious #yummy #instagood #instafood #instagram\n",
      "---------------------------------------------------------------------------\n",
      "Little Miss knows what’s up when it comes to spending on food and drinks. 💁🏻‍♀️🥂Comment and share which Little Miss you relate to the most! 🤭. . . #littlemiss #cuisines #gec #streetfood #foodtalkindia #foodtalk #fti #food #foodie #foodies #foodgram #foodgasm #foodiesofindia #foodblogger #foodfeed #delicious #yummy #instagood #instafood #instagram\n",
      "---------------------------------------------------------------------------\n",
      "#FTIFinds @peelsnutbutter If you’re looking for fresh and healthy spreads, Peels Nut Butter is the right brand for you! 🥯A brand that is all about Nut Butter making, Peels Nut Butter is run by 3 women who hold a passion to create simple food but in the freshest possible way. 👯‍♀️Their butters come with several variants like Almond Butter, Smooth Peanut, Almond Coconut and so much more! Its as nutty as it can get! 🧈🥜Get your toasts ready for these lip-smacking nut butters! Place your orders from their website! 🚛...#nutbutter #peanutbutter #almondbutter #spreads #handcrafted #fresh #foodtalkindia #foodtalk #fti #food #foodie #foodies #foodgram #foodgasm #foodiesofindia #foodblogger #foodfeed #delicious #yummy #instagood #instafood #instagram\n",
      "---------------------------------------------------------------------------\n",
      "#NewInTown @gulati_restaurant The iconic Gulati Restaurant at Pandara Road is soon opening its first outlet in Gurgaon at DT Mega Mall, Sector 28. 🥳The outlet’s launch date has not been disclosed yet but fans of the restaurant can expect to be open soon. This outlet would save travel time if you’re craving your favourite Butter Chicken or Biryani. 🍽🤤Comment below and tell us how excited you are, tag your friends too! 👯‍♀️Stay tuned for more information!...#newintown #gulatirestaurant #butterchicken #biryani #iconic #famous #mughlai #hyderabadi #northindian #foodtalkindia #foodtalk #fti #food #foodie #foodies #foodgram #foodgasm #foodiesofindia #foodblogger #foodfeed #delicious #yummy #instagood #instafood #instagram\n",
      "---------------------------------------------------------------------------\n",
      "From Chicken Popcorn to Crispy Chicken, the list and love for Fried Chicken is never ending. 🍗Here are some hotspots in the capital to get the best Fried Chicken. 😍Common and tell us your go-to spots! 📍...#friedchicken #chickenpopcorn #koreanchicken #buffalowings #restaurants #foodtalkindia #foodtalk #fti #food #foodie #foodies #foodgram #foodgasm #foodiesofindia #foodblogger #foodfeed #delicious #yummy #instagood #instafood #instagram\n",
      "---------------------------------------------------------------------------\n",
      "#FTIFinds @mjolbakehouse If you’re looking for a wholesome artisanal bakery, then Mjöl Bake House is it. 🍰Originating from the Old Norse language, Mjöl embodies the wholesomeness and versatility of the most nourishing, commonly used ingredients from cuisines around the world. 🥐Their forte is meticulously handcrafted bakes, small-batches, seasonal ingredients and sophistication in simplicity. 🧁The bake house is said to be a celebration of nostalgia, childhood, community, the art of the slow life, Here are our top picks: 1. Peach and Raspberry Danish2. Plum Jam and Vanilla Bean Brioche3. Mushroom Puff4. Tomato Ricotta Summer Savoury Tart5. Dark Chocolate Hazelnut Fudge6. Salted Caramel and Chocolate BriocheMjöl Bake House is a delivery-only bakery located in Gurugram. 📍...#bakery #pastries #danish #puffs #artisanal #handcrafted #brioche #foodtalkindia #foodtalk #fti #food #foodie #foodies #foodgram #foodgasm #foodiesofindia #foodblogger #foodfeed #delicious #yummy #instagood #instafood #instagram\n",
      "---------------------------------------------------------------------------\n",
      "Want to try out some new homegrown tea brands? We’ve got you covered! ☕️Here are some amazing tea brands offering oh-so-soothing blends for your mind, body and soul. ☺️🍵Comment and tell us your favourites! 🫖...#homegrown #tea #monsoon #ayurvedic #foodtalkindia #foodtalk #fti #food #foodie #foodies #foodgram #foodgasm #foodiesofindia #foodblogger #foodfeed #delicious #yummy #instagood #instafood #instagram\n",
      "---------------------------------------------------------------------------\n",
      "#FTIFinds @savorworksroasters An artisanal coffee and chocolate bar that has taken a bean-to-cup and bean-to-bar approach. ☕️Savorworks is a project and passion where its people are dedicated to deliver the highest quality of coffee and cacao. 🍫A specialty coffee roastery that roasts small batches of premium coffee from across the country. What makes the place special is also its transparency to its consumers as they can see their coffees and chocolates being made right in front of them. Give their signature drinks, Dark Chocolate Hot Mocha and Sunset a try! 🤤If you’re looking to pair it up with delish food for a healthy breakfast, their Feta Avocado Sourdough Toast and Caprese Croissant Sandwich is bound to make your tummy happy.🍽Location: Chhattarpur, New Delhi 📍Order now from Zomato!...#savorworksroasters #coffee #chocolate #organic #vegan #discover #cafe #bombaycuisine #foodtalkindia #foodtalk #fti #food #foodie #foodies #foodgram #foodgasm #foodiesofindia #foodblogger #foodfeed #delicious #yummy #instagood #instafood #instagram #reels #reelitfeelit #instareels #foodreels\n",
      "---------------------------------------------------------------------------\n",
      "Hot Dogs at these handpicked places are worth hogging on! 🌭Check out this list and visit or order in your favourite hot dog today!🤤Comment and tell us your go-to place for Hot Dogs! 🍽...#hotdog #foodtalkindia #foodtalk #fti #food #foodie #foodies #foodgram #foodgasm #foodiesofindia #foodblogger #foodfeed #delicious #yummy #instagood #instafood #instagram\n",
      "---------------------------------------------------------------------------\n",
      "@milkandcreambar and cult-apparel brand @vandythepink have created a special pop-up shop called “Vandy The Pink in Milk 7 Cream.” The exclusive experience will be marked by the release of the teased “Tofu Burger Sneaker” a collaborative T-shirt, special cobranded treats, alongside a special Milk & Cream’s menu featuring the Vandy Ice Cream Burger and Tofu Ice Cream Swirl. The pop-up will only be from July 30-31 at the Milk & Cream Cereal Bar Nolita location, 159 Mott Street, New York, NY 🎥 @milkandcreambar #foodcollabs #icecream #burger #sneakerdrop\n",
      "---------------------------------------------------------------------------\n",
      "After officially going public,@fazeclan  is teaming up with @doordash for its first ghost kitchen franchise @fazesubs . The sandwich delivery service, created in tandem with celebrity chef @chefgreeny  and the team at @virtualdiningconcepts , is now available in 23 different U.S. states. The FaZe Subs menu includes more than a dozen items, most of which have names inspired by streamer lingo, gaming terminology, and the vibrant personalities who are partnered with FaZe Clan.One of those personalities, @fazerug , shot a video introducing the new dining concept. His contribution to the menu is the Rugfather, a sub that includes smoked turkey, provolone, guac, pepperoncini, Funyuns, and “FaZe sauce.”#foodnews #foodcollabs #fazeclan #doordash #fazesubs #gaming #sandwiches\n",
      "---------------------------------------------------------------------------\n",
      "RIP to a classic summer staple, the Choco Taco 🪦🍫🍦🌮 after @klondikebar officially announced that it will be discontinued. This beloved treat not only made our childhood a little bit sweeter, it has completely incited outrage across the internet with the news that it’s gone. Notable names include @reddit  cofounder @alexisohanian  tweeted at @unilever “I’d like to buy the rights to your Choco Taco and keep it from melting away from future generations’ childhoods.”What are your thoughts on the discontinuation of Choco Taco? Drop them in the comments below 👇 (and please be respectful for the deceased)#foodnews #chocotaco #icecream #klondike #unilever #icecream #tacos\n",
      "---------------------------------------------------------------------------\n",
      "@chipotle  has launched a new promotional game “Buy The Dip\" that can be accessed at www.chipotlebuythedip.xyz. The promotion will run from 7/25 through 7/30 and will give away 200K in cryptocurrency as fans can score free Bitcoin, Ethereum, Avalanche, Solana, or Dogecoin and enable customers to use their crypto to buy real food at Chipotle, so you can “buy the dip” (literally). This promotion not only comes during the heart of a “Crypto Winter,” where many have been buying the dip of Bitcoin and others. This also comes as Chipotle now accepts digital currency, including cryptocurrency, nationwide through a partnership with Flexa enabling guests to use 98 different digital currencies. What do you think? Bad time for a cypto stunt or a good time to buy the dip? 🥑#foodnews #chipolte #guacamole #guac #web3 #crypto #cryptocurrency\n",
      "---------------------------------------------------------------------------\n",
      "Boo-Berry is back! 👻 World-renowned artist @kaws  who has done collabs with the likes of @nike  @kanyewest  @pharrell  @mtv  @supremenewyork  @abathingape  and @fortnite  has recently announced a new project with @generalmills . The collab features a collection of KAWS-crafted monster designs based on the General Mills nostalgic cereal characters, such as Frankenberry and Count Chocula, Boo-Berry and Frute Brute. #foodcollabs #breakfast #breakfastcereal #kaws\n",
      "---------------------------------------------------------------------------\n",
      "@shakeshack  x @flybyjing have teamed up for a Chili Crisp Chicken collab in the United Kingdom. The Chili Crisp Chicken is glazed with spicy Sichuan chili crisp topped with pickled cucumber, shredded lettuce and spring onion mayo held between a toasted potato bun. Additional items include Chili Crisp Chicken Bites and Chili Crisp Cheese Fries topped with Shack cheese sauce and spicy Sichuan chili crisp. The Fly By Jing x Shake Shack Chili Crisp menu is available now until September 30. Who wants to fly to the UK to try this epic Fly By Jing Shake Shack chicken sandwich? 🙋‍♀️🙋‍♂️🇬🇧🌶🐔#foodnews #foodcollabs #spicy #shakeshack #flybyjing\n",
      "---------------------------------------------------------------------------\n",
      "Ever wonder how guacamole is made at the grocery store? @deciccos makes their guacamole all by hand, with the freshest ingredients, and yes in a BIG bowl 🥑 🍅 🧅 🌿 🎥 @lohud_food #guacamole #guac #avocado #handmade #westchestercounty #newyork\n",
      "---------------------------------------------------------------------------\n",
      "@heinz  and Brazilian-agency Africa have created “Spoon Friez” in partnership with UK-based @tastehead  to actually develop the recipe. This marketing stunt and product innovation is a response to a global study finding that 95% of fry-eaters refuse to eat fries without a side condiment, and 84% expressed “friestration.” As in a frustration with the small, unsatisfying amount of ketchup (or any condiments) that one can fit onto a single fry.Do you suffer from “friestration?” Tag a ketchup lover who could go for a Spoon Fry 🍟🥄🍅#foodnews #heinz #ketchup #frenchfries@heinz_br\n",
      "---------------------------------------------------------------------------\n",
      "Brooklyn arts collective @mschf created a pop-up ice cream truck selling popsicles themed after the world’s richest billionaires. The project called “Eat The Rich” sold these popsicles for the intentionally inflated price of $10 each in NY and LA. The flavor options included Munch Musk, Bite Bezos, Gobble Gates, Snack on Jack (Ma) and Suck Zuck. 🎥 @whatisnewyork @ferriswheeljay\n",
      "---------------------------------------------------------------------------\n",
      "Culinary collective @ghettogastro x @flybyjing have teamed up to create Spicy Sovereign Syrup—an explosive combination of Chengdu’s fire flavors with better-for-you sweetness that will \"light your sweet tooth on fire.\" Get em' while their hot 🔥, limited quantities available at flybyjing.com #foodcollabs #spicy #sweet #maplesyrup\n",
      "---------------------------------------------------------------------------\n",
      "Videshi Amrood😍.follow @delhi_streets_food#guava #summer #weekend\n",
      "---------------------------------------------------------------------------\n",
      "📍@absolute_barbecues , GIP Noida#icecream #coldstone #coldstonecreamery #gulabjamun #dessert\n",
      "---------------------------------------------------------------------------\n",
      "Desi Lassi😯#bewafaikargaya #bpraak #lekh#whitehillmusic@gurnambhullarofficial@taniazworld@bpraak@jaani777@urban_mediaa\n",
      "---------------------------------------------------------------------------\n",
      "Kulhad Wale Chole Chawal🫣..#bewafaikargaya #bpraak #lekh#whitehillmusic@gurnambhullarofficial@taniazworld@bpraak@jaani777@urban_mediaa\n",
      "---------------------------------------------------------------------------\n",
      "Spicy Challi🥵#bhutta #challi #bewafaikargaya #bpraak #lekh#whitehillmusic@gurnambhullarofficial@taniazworld@bpraak@jaani777@urban_mediaa\n",
      "---------------------------------------------------------------------------\n",
      "Chicken 🍕Craving Hui na😆Follow @delhi_streets_food\n",
      "---------------------------------------------------------------------------\n",
      "Paneer Kurkure Momos❤️\n",
      "---------------------------------------------------------------------------\n",
      "Tag a Ram Laddoo Lover😍📍Janakpuri C4E Market, DelhiFollow @delhi_streets_food @bpraak  @gurnambhullarofficial @taniazworld@jaani777 #uddgaya #lekh #whitehillmusic #bpraak\n",
      "---------------------------------------------------------------------------\n",
      "5 Ki Kachori✌️Best for Breakfast🙈Follow @delhi_streets_food #kachori #breakfast #loveit\n",
      "---------------------------------------------------------------------------\n",
      "Tag a Chole Bhature lover 😍❤️Chole bhature is love ❤️ 📍Anupurna Chole Bhature, Durgapuri chowk,Delhi.Keep Following: @delhi_streets_food #cholebhature #bhature  #chole #desifood #foodiesofinstagram #foodporn #reelkarofeelkaro #yummyinmytummy #delhistreetfood #reelindia #veganfood #indianfoodbloggers #indianfoods #reelsvideo #indianblogger #reelitfeelit #localfood\n",
      "---------------------------------------------------------------------------\n"
     ]
    }
   ],
   "source": [
    "for i in content:\n",
    "    print(i)\n",
    "    print('---------------------------------------------------------------------------')"
   ]
  },
  {
   "cell_type": "markdown",
   "id": "9c45c263",
   "metadata": {},
   "source": [
    "## --> Prepare a list of all words used in all the scraped posts and calculate the frequency of each word."
   ]
  },
  {
   "cell_type": "code",
   "execution_count": 305,
   "id": "023d5a84",
   "metadata": {
    "scrolled": false
   },
   "outputs": [
    {
     "data": {
      "text/plain": [
       "{'#foodieincarnate': 9,\n",
       " '#reelitfeelit': 3,\n",
       " '#reelkarofeelkaro': 5,\n",
       " '#reelsinstagram': 4,\n",
       " '#reels': 6,\n",
       " '#bhaang': 1,\n",
       " '#hash': 1,\n",
       " '#high': 1,\n",
       " '#viralfood': 3,\n",
       " '#explore': 4,\n",
       " '#sodelhi': 6,\n",
       " '#newdelhi': 5,\n",
       " '#foodtalkindia': 16,\n",
       " '#desifood': 3,\n",
       " '#delhigram': 6,\n",
       " '#indianfood': 6,\n",
       " '#barfi': 1,\n",
       " '#mysorepak': 1,\n",
       " '#bangalore': 1,\n",
       " '#bengaluru': 1,\n",
       " '#nammabangalore': 1,\n",
       " '#nammabengaluru': 1,\n",
       " '#nammakarnataka': 1,\n",
       " '#southindian': 1,\n",
       " '#southindianfood': 1,\n",
       " '#dessert': 4,\n",
       " '#desserts': 2,\n",
       " '#delhifood': 6,\n",
       " '#mumbaifood': 2,\n",
       " '#mithai': 2,\n",
       " '#indiandessert': 1,\n",
       " '#gulabjamun': 3,\n",
       " '#indianfoodbloggers': 6,\n",
       " '#bangalorefood': 1,\n",
       " '#soulfood': 1,\n",
       " '#desikhana': 7,\n",
       " '#sobangalore': 1,\n",
       " '#dessertporn': 1,\n",
       " '#Ajmersharif': 1,\n",
       " '#delhifoodblogger': 5,\n",
       " '#foodgasm': 15,\n",
       " '#foodporn': 5,\n",
       " '#foodpornshare': 4,\n",
       " '#foodlover': 5,\n",
       " '#foodgram': 14,\n",
       " '#foodiesofinstagram': 6,\n",
       " '#foodie': 14,\n",
       " '#indianstreetfood': 4,\n",
       " '#streetfood': 8,\n",
       " '#delhistreetfood': 5,\n",
       " '#streetfoodindia': 4,\n",
       " '#mumbaistreetfood': 4,\n",
       " '#delhifoodie': 5,\n",
       " '#foodblogger': 16,\n",
       " '#indianfoodie': 5,\n",
       " '#indianfoodblogger': 4,\n",
       " '#mumbai': 5,\n",
       " '#delhi': 6,\n",
       " '#samosa': 1,\n",
       " '#vadodara': 1,\n",
       " '#Reelitfeelit': 3,\n",
       " '#sikh': 1,\n",
       " '#sikhism': 1,\n",
       " '#gurudwara': 1,\n",
       " '#chapati': 1,\n",
       " '#satnamwaheguruੴ': 1,\n",
       " '#wmk': 1,\n",
       " '#Foodieincarnate': 1,\n",
       " '#rasgulla': 1,\n",
       " '#indiansweets': 1,\n",
       " '#kajukatli': 1,\n",
       " '#ladoo': 1,\n",
       " '#olddelhi': 1,\n",
       " '#maharashtra': 1,\n",
       " '#dessertfirst': 1,\n",
       " '#mumbaifoodie': 1,\n",
       " '#rasmalai': 1,\n",
       " '#dessertgram': 1,\n",
       " '#dessertaddict': 1,\n",
       " '#sweettooth': 1,\n",
       " '#kolkata': 1,\n",
       " '#cameraman': 1,\n",
       " '#shivratri': 1,\n",
       " '#mathura': 1,\n",
       " '#mirzapur': 1,\n",
       " '#ghewar': 1,\n",
       " '#pizza': 1,\n",
       " '#pizzalover': 1,\n",
       " '#nagpur': 1,\n",
       " '#nadda': 1,\n",
       " '#ShriRam': 1,\n",
       " '#Ayodhya': 1,\n",
       " '#trending': 1,\n",
       " '#anokha': 1,\n",
       " '#adhbhut': 1,\n",
       " '#awishvasniye': 1,\n",
       " '#foodiewe': 1,\n",
       " '#dilsefoodie': 8,\n",
       " '#dilsecouple': 7,\n",
       " '#Bikaner😄': 1,\n",
       " '#mariedlife': 1,\n",
       " '#food': 12,\n",
       " '#Alootikki': 1,\n",
       " '#PowerCouple🔥🔥🔥🔥🔥🔥': 1,\n",
       " '#Assam': 1,\n",
       " '#chatpati_shikha': 1,\n",
       " '#indiapictures': 1,\n",
       " '#storiesofindia': 1,\n",
       " '#manmeetbindrafilms': 1,\n",
       " '#instagram': 11,\n",
       " '#instagood': 11,\n",
       " '#dubai': 1,\n",
       " '#resturant': 1,\n",
       " '#experience': 1,\n",
       " '#yum': 1,\n",
       " '#lebanese': 1,\n",
       " '#newsroundup': 1,\n",
       " '#foodnews': 6,\n",
       " '#beveragesnews': 1,\n",
       " '#events': 1,\n",
       " '#festivals': 1,\n",
       " '#foodtalk': 10,\n",
       " '#fti': 10,\n",
       " '#foodies': 11,\n",
       " '#foodiesofindia': 10,\n",
       " '#foodfeed': 10,\n",
       " '#delicious': 10,\n",
       " '#yummy': 10,\n",
       " '#instafood': 10,\n",
       " '#share': 1,\n",
       " '#kachoris': 1,\n",
       " '#crispy': 1,\n",
       " '#littlemiss': 1,\n",
       " '#cuisines': 1,\n",
       " '#gec': 1,\n",
       " '#FTIFinds': 3,\n",
       " '#nutbutter': 1,\n",
       " '#peanutbutter': 1,\n",
       " '#almondbutter': 1,\n",
       " '#spreads': 1,\n",
       " '#handcrafted': 2,\n",
       " '#fresh': 1,\n",
       " '#NewInTown': 1,\n",
       " '#newintown': 1,\n",
       " '#gulatirestaurant': 1,\n",
       " '#butterchicken': 1,\n",
       " '#biryani': 1,\n",
       " '#iconic': 1,\n",
       " '#famous': 1,\n",
       " '#mughlai': 1,\n",
       " '#hyderabadi': 1,\n",
       " '#northindian': 1,\n",
       " '#Astrologer': 1,\n",
       " '#Vashikaran': 1,\n",
       " '#Solution': 1,\n",
       " '#friedchicken': 1,\n",
       " '#chickenpopcorn': 1,\n",
       " '#koreanchicken': 1,\n",
       " '#buffalowings': 1,\n",
       " '#restaurants': 1,\n",
       " '#bakery': 1,\n",
       " '#pastries': 1,\n",
       " '#danish': 1,\n",
       " '#puffs': 1,\n",
       " '#artisanal': 1,\n",
       " '#brioche': 1,\n",
       " '#homegrown': 1,\n",
       " '#tea': 1,\n",
       " '#monsoon': 1,\n",
       " '#ayurvedic': 1,\n",
       " '#chamomiletea': 1,\n",
       " '#CaffeineCleansewithClive': 1,\n",
       " '#savorworksroasters': 1,\n",
       " '#coffee': 1,\n",
       " '#chocolate': 1,\n",
       " '#organic': 1,\n",
       " '#vegan': 1,\n",
       " '#discover': 1,\n",
       " '#cafe': 1,\n",
       " '#bombaycuisine': 1,\n",
       " '#instareels': 1,\n",
       " '#foodreels': 1,\n",
       " '#hotdog': 1,\n",
       " '#foodcollabs': 5,\n",
       " '#icecream': 4,\n",
       " '#burger': 1,\n",
       " '#sneakerdrop': 1,\n",
       " '#fazeclan': 1,\n",
       " '#doordash': 1,\n",
       " '#fazesubs': 1,\n",
       " '#gaming': 1,\n",
       " '#sandwiches': 1,\n",
       " '#chocotaco': 1,\n",
       " '#klondike': 1,\n",
       " '#unilever': 1,\n",
       " '#tacos': 1,\n",
       " '#chipolte': 1,\n",
       " '#guacamole': 2,\n",
       " '#guac': 2,\n",
       " '#web3': 1,\n",
       " '#crypto': 1,\n",
       " '#cryptocurrency': 1,\n",
       " '#breakfast': 2,\n",
       " '#breakfastcereal': 1,\n",
       " '#kaws': 1,\n",
       " '#spicy': 2,\n",
       " '#shakeshack': 1,\n",
       " '#flybyjing': 1,\n",
       " '#avocado': 1,\n",
       " '#handmade': 1,\n",
       " '#westchestercounty': 1,\n",
       " '#newyork': 1,\n",
       " '#heinz': 1,\n",
       " '#ketchup': 1,\n",
       " '#frenchfries': 1,\n",
       " '#sweet': 1,\n",
       " '#maplesyrup': 1,\n",
       " '#guava': 1,\n",
       " '#summer': 1,\n",
       " '#weekend': 1,\n",
       " '#coldstone': 1,\n",
       " '#coldstonecreamery': 1,\n",
       " '#bewafaikargaya': 3,\n",
       " '#bpraak': 4,\n",
       " '#lekh': 4,\n",
       " '#whitehillmusic': 4,\n",
       " '#bhutta': 1,\n",
       " '#challi': 1,\n",
       " '#uddgaya': 1,\n",
       " '#cook': 1,\n",
       " '#cooking': 1,\n",
       " '#eat': 1,\n",
       " '#foodblog': 1,\n",
       " '#foodbloggers': 1,\n",
       " '#foodcoma': 1,\n",
       " '#foodforfoodies': 1,\n",
       " '#foodforthought': 1,\n",
       " '#foodism': 1,\n",
       " '#foodlove': 1,\n",
       " '#foodlovers': 1,\n",
       " '#foodnetwork': 1,\n",
       " '#foodofinstagram': 1,\n",
       " '#foodoftheday': 1,\n",
       " '#foodphoto': 1,\n",
       " '#foodpic': 1,\n",
       " '#foodpics': 1,\n",
       " '#foodpost': 1,\n",
       " '#foods': 1,\n",
       " '#kachori': 1,\n",
       " '#loveit': 1,\n",
       " '#cholebhature': 1,\n",
       " '#bhature': 1,\n",
       " '#chole': 1,\n",
       " '#yummyinmytummy': 1,\n",
       " '#reelindia': 1,\n",
       " '#veganfood': 1,\n",
       " '#indianfoods': 1,\n",
       " '#reelsvideo': 1,\n",
       " '#indianblogger': 1,\n",
       " '#localfood': 1}"
      ]
     },
     "execution_count": 305,
     "metadata": {},
     "output_type": "execute_result"
    }
   ],
   "source": [
    "d = dict()\n",
    "for i in hashtags:\n",
    "    if i in d.keys():\n",
    "        d[i] = d[i] + 1\n",
    "    else:\n",
    "        d[i] = 1\n",
    "    \n",
    "d"
   ]
  },
  {
   "cell_type": "markdown",
   "id": "65e54e26",
   "metadata": {},
   "source": [
    "## Creating a csv file with two columns : the word and its frequency"
   ]
  },
  {
   "cell_type": "code",
   "execution_count": 306,
   "id": "9136c1fb",
   "metadata": {},
   "outputs": [],
   "source": [
    "word_used = np.array([i[1:] for i in d.keys()])\n",
    "frequency = np.array([i for i in d.values()])\n",
    "df = pd.DataFrame()\n",
    "df['Words'] = word_used\n",
    "df['Frequency'] = frequency\n",
    "df.reset_index(drop=True)\n",
    "df.to_csv('Hashtag_Frequencies.csv', index = False)"
   ]
  },
  {
   "cell_type": "markdown",
   "id": "4f0e3c85",
   "metadata": {},
   "source": [
    "## --> Now, find the hashtags that were most popular among these bloggers"
   ]
  },
  {
   "cell_type": "code",
   "execution_count": 307,
   "id": "6e69da57",
   "metadata": {},
   "outputs": [
    {
     "name": "stdout",
     "output_type": "stream",
     "text": [
      "foodblogger - 16\n",
      "foodtalkindia - 16\n",
      "foodgasm - 15\n",
      "foodgram - 14\n",
      "foodie - 14\n",
      "food - 12\n",
      "instagram - 11\n",
      "instagood - 11\n",
      "foodies - 11\n",
      "yummy - 10\n",
      "delicious - 10\n",
      "foodfeed - 10\n",
      "foodtalk - 10\n",
      "fti - 10\n",
      "instafood - 10\n",
      "foodiesofindia - 10\n",
      "foodieincarnate - 9\n",
      "streetfood - 8\n",
      "dilsefoodie - 8\n",
      "dilsecouple - 7\n",
      "desikhana - 7\n",
      "foodiesofinstagram - 6\n",
      "indianfoodbloggers - 6\n",
      "delhifood - 6\n",
      "foodnews - 6\n",
      "delhi - 6\n",
      "reels - 6\n",
      "indianfood - 6\n",
      "delhigram - 6\n",
      "sodelhi - 6\n",
      "delhifoodblogger - 5\n",
      "foodcollabs - 5\n",
      "mumbai - 5\n",
      "delhifoodie - 5\n",
      "reelkarofeelkaro - 5\n",
      "delhistreetfood - 5\n",
      "indianfoodie - 5\n",
      "foodporn - 5\n",
      "newdelhi - 5\n",
      "foodlover - 5\n",
      "indianfoodblogger - 4\n",
      "icecream - 4\n",
      "streetfoodindia - 4\n",
      "mumbaistreetfood - 4\n",
      "indianstreetfood - 4\n",
      "foodpornshare - 4\n",
      "dessert - 4\n",
      "bpraak - 4\n",
      "explore - 4\n",
      "whitehillmusic - 4\n",
      "lekh - 4\n",
      "reelsinstagram - 4\n",
      "bewafaikargaya - 3\n",
      "Reelitfeelit - 3\n",
      "gulabjamun - 3\n",
      "viralfood - 3\n",
      "desifood - 3\n",
      "FTIFinds - 3\n",
      "reelitfeelit - 3\n",
      "guacamole - 2\n",
      "handcrafted - 2\n",
      "guac - 2\n",
      "desserts - 2\n",
      "mumbaifood - 2\n",
      "mithai - 2\n",
      "breakfast - 2\n",
      "spicy - 2\n",
      "anokha - 1\n",
      "foodiewe - 1\n",
      "awishvasniye - 1\n",
      "adhbhut - 1\n",
      "ShriRam - 1\n",
      "trending - 1\n",
      "Ayodhya - 1\n",
      "pizza - 1\n",
      "nadda - 1\n",
      "nagpur - 1\n",
      "Bikaner😄 - 1\n",
      "pizzalover - 1\n",
      "dubai - 1\n",
      "storiesofindia - 1\n",
      "mariedlife - 1\n",
      "Alootikki - 1\n",
      "PowerCouple🔥🔥🔥🔥🔥🔥 - 1\n",
      "Assam - 1\n",
      "chatpati_shikha - 1\n",
      "indiapictures - 1\n",
      "mirzapur - 1\n",
      "manmeetbindrafilms - 1\n",
      "newsroundup - 1\n",
      "lebanese - 1\n",
      "yum - 1\n",
      "experience - 1\n",
      "resturant - 1\n",
      "ghewar - 1\n",
      "sikh - 1\n",
      "mathura - 1\n",
      "shivratri - 1\n",
      "samosa - 1\n",
      "Ajmersharif - 1\n",
      "dessertporn - 1\n",
      "sobangalore - 1\n",
      "soulfood - 1\n",
      "bangalorefood - 1\n",
      "indiandessert - 1\n",
      "southindianfood - 1\n",
      "southindian - 1\n",
      "nammakarnataka - 1\n",
      "nammabengaluru - 1\n",
      "nammabangalore - 1\n",
      "bengaluru - 1\n",
      "bangalore - 1\n",
      "mysorepak - 1\n",
      "barfi - 1\n",
      "high - 1\n",
      "hash - 1\n",
      "bhaang - 1\n",
      "vadodara - 1\n",
      "events - 1\n",
      "sikhism - 1\n",
      "maharashtra - 1\n",
      "cameraman - 1\n",
      "kolkata - 1\n",
      "sweettooth - 1\n",
      "dessertaddict - 1\n",
      "dessertgram - 1\n",
      "rasmalai - 1\n",
      "mumbaifoodie - 1\n",
      "dessertfirst - 1\n",
      "olddelhi - 1\n",
      "gurudwara - 1\n",
      "ladoo - 1\n",
      "kajukatli - 1\n",
      "indiansweets - 1\n",
      "rasgulla - 1\n",
      "Foodieincarnate - 1\n",
      "wmk - 1\n",
      "satnamwaheguruੴ - 1\n",
      "chapati - 1\n",
      "beveragesnews - 1\n",
      "localfood - 1\n",
      "festivals - 1\n",
      "newyork - 1\n",
      "challi - 1\n",
      "bhutta - 1\n",
      "coldstonecreamery - 1\n",
      "coldstone - 1\n",
      "weekend - 1\n",
      "summer - 1\n",
      "guava - 1\n",
      "maplesyrup - 1\n",
      "sweet - 1\n",
      "frenchfries - 1\n",
      "ketchup - 1\n",
      "heinz - 1\n",
      "westchestercounty - 1\n",
      "cook - 1\n",
      "handmade - 1\n",
      "avocado - 1\n",
      "flybyjing - 1\n",
      "shakeshack - 1\n",
      "kaws - 1\n",
      "breakfastcereal - 1\n",
      "cryptocurrency - 1\n",
      "crypto - 1\n",
      "web3 - 1\n",
      "chipolte - 1\n",
      "tacos - 1\n",
      "unilever - 1\n",
      "uddgaya - 1\n",
      "cooking - 1\n",
      "chocotaco - 1\n",
      "foodpics - 1\n",
      "reelsvideo - 1\n",
      "indianfoods - 1\n",
      "veganfood - 1\n",
      "reelindia - 1\n",
      "yummyinmytummy - 1\n",
      "chole - 1\n",
      "bhature - 1\n",
      "cholebhature - 1\n",
      "loveit - 1\n",
      "kachori - 1\n",
      "foods - 1\n",
      "foodpost - 1\n",
      "foodpic - 1\n",
      "eat - 1\n",
      "foodphoto - 1\n",
      "foodoftheday - 1\n",
      "foodofinstagram - 1\n",
      "foodnetwork - 1\n",
      "foodlovers - 1\n",
      "foodlove - 1\n",
      "foodism - 1\n",
      "foodforthought - 1\n",
      "foodforfoodies - 1\n",
      "foodcoma - 1\n",
      "foodbloggers - 1\n",
      "foodblog - 1\n",
      "klondike - 1\n",
      "sandwiches - 1\n",
      "indianblogger - 1\n",
      "butterchicken - 1\n",
      "koreanchicken - 1\n",
      "chickenpopcorn - 1\n",
      "friedchicken - 1\n",
      "Solution - 1\n",
      "Vashikaran - 1\n",
      "Astrologer - 1\n",
      "northindian - 1\n",
      "hyderabadi - 1\n",
      "mughlai - 1\n",
      "famous - 1\n",
      "iconic - 1\n",
      "biryani - 1\n",
      "gulatirestaurant - 1\n",
      "restaurants - 1\n",
      "newintown - 1\n",
      "NewInTown - 1\n",
      "fresh - 1\n",
      "spreads - 1\n",
      "almondbutter - 1\n",
      "peanutbutter - 1\n",
      "nutbutter - 1\n",
      "gec - 1\n",
      "cuisines - 1\n",
      "littlemiss - 1\n",
      "crispy - 1\n",
      "kachoris - 1\n",
      "buffalowings - 1\n",
      "bakery - 1\n",
      "gaming - 1\n",
      "organic - 1\n",
      "fazesubs - 1\n",
      "doordash - 1\n",
      "fazeclan - 1\n",
      "sneakerdrop - 1\n",
      "burger - 1\n",
      "hotdog - 1\n",
      "foodreels - 1\n",
      "instareels - 1\n",
      "bombaycuisine - 1\n",
      "cafe - 1\n",
      "discover - 1\n",
      "vegan - 1\n",
      "chocolate - 1\n",
      "pastries - 1\n",
      "coffee - 1\n",
      "savorworksroasters - 1\n",
      "CaffeineCleansewithClive - 1\n",
      "chamomiletea - 1\n",
      "ayurvedic - 1\n",
      "monsoon - 1\n",
      "tea - 1\n",
      "homegrown - 1\n",
      "brioche - 1\n",
      "artisanal - 1\n",
      "puffs - 1\n",
      "danish - 1\n",
      "share - 1\n"
     ]
    }
   ],
   "source": [
    "word_used = word_used[np.argsort(frequency)[::-1]]\n",
    "frequency = frequency[np.argsort(frequency)[::-1]]\n",
    "\n",
    "for i in range(len(word_used)):\n",
    "    print(word_used[i],'-',frequency[i])"
   ]
  },
  {
   "cell_type": "markdown",
   "id": "430556c4",
   "metadata": {},
   "source": [
    "## --> Plotting a Pie Chart of the top 5 hashtags obtained and the number of times they were used by these bloggers in the scraped posts."
   ]
  },
  {
   "cell_type": "code",
   "execution_count": 308,
   "id": "e895ec63",
   "metadata": {},
   "outputs": [
    {
     "data": {
      "image/png": "[encoded data removed]",
      "text/plain": [
       "<Figure size 360x360 with 1 Axes>"
      ]
     },
     "metadata": {},
     "output_type": "display_data"
    }
   ],
   "source": [
    "x = word_used[:5]\n",
    "y = frequency[:5]\n",
    "plt.figure(figsize = (5,5))\n",
    "plt.pie(y, labels = x,shadow = True, autopct = '%.2f%%')\n",
    "plt.title('Top 5 hashtags used')\n",
    "plt.show()"
   ]
  },
  {
   "cell_type": "markdown",
   "id": "3dca5e35",
   "metadata": {},
   "source": [
    "## --> Find out the likes of the top 10 posts of the 5 handles obtained earlier.\n"
   ]
  },
  {
   "cell_type": "code",
   "execution_count": 310,
   "id": "c193e8be",
   "metadata": {
    "scrolled": true
   },
   "outputs": [
    {
     "name": "stderr",
     "output_type": "stream",
     "text": [
      "<ipython-input-310-7f8e475e24b7>:15: DeprecationWarning: find_element_by_xpath is deprecated. Please use find_element(by=By.XPATH, value=xpath) instead\n",
      "  driver.find_element_by_xpath('//div[@class=\"_aagw\"]').click()\n",
      "<ipython-input-310-7f8e475e24b7>:22: DeprecationWarning: find_element_by_xpath is deprecated. Please use find_element(by=By.XPATH, value=xpath) instead\n",
      "  if driver.find_element_by_xpath('//section[contains(@class,\"_aa-7\")]//div[contains(@class,\"_aacl\")]').get_attribute('textContent').startswith('L'):\n",
      "<ipython-input-310-7f8e475e24b7>:27: DeprecationWarning: find_element_by_xpath is deprecated. Please use find_element(by=By.XPATH, value=xpath) instead\n",
      "  like = driver.find_element_by_xpath('//section[contains(@class,\"_aa-7\")]//div[contains(@class,\"_aacl\")]/span').get_attribute('textContent')\n",
      "<ipython-input-310-7f8e475e24b7>:37: DeprecationWarning: find_element_by_xpath is deprecated. Please use find_element(by=By.XPATH, value=xpath) instead\n",
      "  close=driver.find_element_by_xpath(\"//div[contains(@class,'o9tjht9c')]/div[contains(@class,'oajrlxb2')]\")\n"
     ]
    }
   ],
   "source": [
    "likes=[]\n",
    "#using top 5 user_handles\n",
    "for user in top_handles:\n",
    "    #if we search food the top result is foodtalkindia so there is a flaw which i have fixed in this way\n",
    "    if user == 'food':\n",
    "        driver.get('https://www.instagram.com/food/')\n",
    "        time.sleep(3)\n",
    "    else:\n",
    "        time.sleep(3)\n",
    "        #searching user_handle\n",
    "        search_for_handle(user)\n",
    "    \n",
    "    time.sleep(3)\n",
    "    #clicking on first post\n",
    "    driver.find_element_by_xpath('//div[@class=\"_aagw\"]').click()\n",
    "    time.sleep(5)\n",
    "    #running loop for 10 times to get 10 posts\n",
    "    \n",
    "    temp = []\n",
    "    for i in range(10):\n",
    "        time.sleep(3)\n",
    "        if driver.find_element_by_xpath('//section[contains(@class,\"_aa-7\")]//div[contains(@class,\"_aacl\")]').get_attribute('textContent').startswith('L'):\n",
    "            next_but = wait.until(EC.presence_of_element_located((By.XPATH,'//div[contains(@class,\"_aaqg\")]/button[contains(@class,\"_abl-\")]')))\n",
    "            next_but.click()\n",
    "        else:\n",
    "            #locating like \n",
    "            like = driver.find_element_by_xpath('//section[contains(@class,\"_aa-7\")]//div[contains(@class,\"_aacl\")]/span').get_attribute('textContent')\n",
    "            like_int = like.replace(',','')\n",
    "            #appending the like in our temp list\n",
    "            temp.append(int(like_int))\n",
    "            #clicking on next for second post\n",
    "            next_but = wait.until(EC.presence_of_element_located((By.XPATH,'//div[contains(@class,\"_aaqg\")]/button[contains(@class,\"_abl-\")]')))\n",
    "            next_but.click()\n",
    "    temp = sum(temp)\n",
    "    likes.append(temp)\n",
    "    #closing the post box\n",
    "    close=driver.find_element_by_xpath(\"//div[contains(@class,'o9tjht9c')]/div[contains(@class,'oajrlxb2')]\")\n",
    "    close.click()\n",
    "    #clearing search bar.\n",
    "    clear_search()\n",
    "    "
   ]
  },
  {
   "cell_type": "code",
   "execution_count": 311,
   "id": "2a25f4db",
   "metadata": {
    "scrolled": false
   },
   "outputs": [
    {
     "name": "stdout",
     "output_type": "stream",
     "text": [
      "foodie_incarnate has 699163 in his last 10 post. ( ~ 699163 )\n",
      "dilsefoodie has 60127 in his last 10 post. ( ~ 60127 )\n",
      "foodtalkindia has 4001 in his last 10 post. ( ~ 4001 )\n",
      "food has 1762 in his last 10 post. ( ~ 1762 )\n",
      "delhi_streets_food has 71462 in his last 10 post. ( ~ 71462 )\n"
     ]
    }
   ],
   "source": [
    "handles = []\n",
    "for i in top_handles:\n",
    "    handles.append(i)\n",
    "\n",
    "for i in range(len(handles)):\n",
    "    print(handles[i], 'has', likes[i],'in his last 10 post.','( ~',likes[i],')')"
   ]
  },
  {
   "cell_type": "code",
   "execution_count": 312,
   "id": "dd1706bf",
   "metadata": {},
   "outputs": [],
   "source": [
    "followers = []\n",
    "for i in top_handles.values():\n",
    "    followers.append(i)"
   ]
  },
  {
   "cell_type": "code",
   "execution_count": 313,
   "id": "725da9c6",
   "metadata": {},
   "outputs": [],
   "source": [
    "handles = np.array(handles)\n",
    "likes = np.array(likes)\n",
    "followers = np.array(followers)"
   ]
  },
  {
   "cell_type": "markdown",
   "id": "7c0b00c5",
   "metadata": {},
   "source": [
    "## --> Calculate the average likes for a handle."
   ]
  },
  {
   "cell_type": "code",
   "execution_count": 314,
   "id": "1cdda699",
   "metadata": {},
   "outputs": [
    {
     "data": {
      "text/plain": [
       "array([69916.3,  6012.7,   400.1,   176.2,  7146.2])"
      ]
     },
     "execution_count": 314,
     "metadata": {},
     "output_type": "execute_result"
    }
   ],
   "source": [
    "average_likes = likes/10\n",
    "average_likes"
   ]
  },
  {
   "cell_type": "markdown",
   "id": "86c3c5cd",
   "metadata": {},
   "source": [
    "## --> Divide the average likes obtained from the number of followers of the handle to get the average followers:like ratio of each handle. "
   ]
  },
  {
   "cell_type": "code",
   "execution_count": 315,
   "id": "8098b068",
   "metadata": {},
   "outputs": [
    {
     "data": {
      "text/plain": [
       "array([  19.51732286,  170.25895189,  770.06498375, 1025.49943246,\n",
       "          5.41084772])"
      ]
     },
     "execution_count": 315,
     "metadata": {},
     "output_type": "execute_result"
    }
   ],
   "source": [
    "ratio=followers/average_likes\n",
    "ratio"
   ]
  },
  {
   "cell_type": "markdown",
   "id": "d6eec1f1",
   "metadata": {},
   "source": [
    "## --> Creating  a bar graph to depict the above obtained information."
   ]
  },
  {
   "cell_type": "code",
   "execution_count": 316,
   "id": "f9e431c0",
   "metadata": {
    "scrolled": false
   },
   "outputs": [
    {
     "data": {
      "image/png": "[encoded data removed]",
      "text/plain": [
       "<Figure size 720x504 with 1 Axes>"
      ]
     },
     "metadata": {
      "needs_background": "light"
     },
     "output_type": "display_data"
    }
   ],
   "source": [
    "plt.figure(figsize=(10,7))\n",
    "plt.bar(handles, ratio, color = 'pink')\n",
    "plt.xticks(rotation = 17, size = 12)\n",
    "plt.title('Followers to Like ratio', size = 30)\n",
    "plt.xlabel('User_Handles', size = 15)\n",
    "plt.ylabel('ratio of followers and average like', size = 15)\n",
    "plt.grid()\n",
    "plt.show()"
   ]
  },
  {
   "cell_type": "code",
   "execution_count": 317,
   "id": "6369d013",
   "metadata": {},
   "outputs": [],
   "source": [
    "driver.quit()"
   ]
  }
 ],
 "metadata": {
  "kernelspec": {
   "display_name": "Python 3",
   "language": "python",
   "name": "python3"
  },
  "language_info": {
   "codemirror_mode": {
    "name": "ipython",
    "version": 3
   },
   "file_extension": ".py",
   "mimetype": "text/x-python",
   "name": "python",
   "nbconvert_exporter": "python",
   "pygments_lexer": "ipython3",
   "version": "3.8.8"
  }
 },
 "nbformat": 4,
 "nbformat_minor": 5
}
